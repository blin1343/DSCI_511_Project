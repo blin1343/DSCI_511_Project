{
 "cells": [
  {
   "cell_type": "code",
   "execution_count": 1,
   "metadata": {},
   "outputs": [],
   "source": [
    "Topics = {\n",
    "\"Streaming\" : [\"Quibi\", \"HBO\", \"Netflix\", \"Free Documentries\", \"Free Shows\"],\n",
    "\"Exercises\" : [\"Yoga\", \"Walking\", \"Running\", \"Meditate\", \"Bicycle riding\"],\n",
    "\"HBO_Shows\" : [\"Succession\",\"True Blood\",\"The Sopranos\",\"Veep\",\"The Wire\"],\n",
    "\"Virtual_Games\" : [\"Animal Crossing: New Horizons\", \"Club Penguin\", \"Monopoly\", \"Mario Kart Tour\",\"Words With Friends\"],\n",
    "\"Cooking\" : [\"pancake\", \"pasta\", \"baking hacks\", \"bread\", \"cake\"],\n",
    "\"Video_Chat_Platforms\" : [\"Google hangouts\", \"Zoom\", \"QuarantineChat\", \"HouseParty\",\"Zoom Party\"],\n",
    "\"Live_Virtual_Performance\" : [\"Billie Eilish\",\"BTS\", \"Dua Lipa\", \"Sophia Ankel\"],\n",
    "\"Cameo\" : [\"Steven Galanis\", \"Rachel Dratch\", \"Mandy Moore\", \"Restaurant Workers' Relief Fund\"],\n",
    "\"Social_Media\" : [\"social media memes\", \"TikTok\", \"Instagram\"],\n",
    "\"TikTok\" : [\"Hibachi grill\",\"Hooters\", \"Ciara\", \"Usher\", \"Jennifer Lopez\"],\n",
    "\"Instagram\" : [\"memes\", \"video chat\", \"makeup tutorials\", \"co-watching\", \"working_from_home\"],\n",
    "\"Tiktok_Meme\" : [\"highschool musical\", \"dance workouts\", \"solo dance\", \"themed dinners\", \"distance dance\"],\n",
    "\"Virtual_Workouts\" : [\"Gym\", \"Fat burning workout\", \"Dancing\", \"Toning workout\", \"HIIT workout\"]\n",
    "}"
   ]
  },
  {
   "cell_type": "code",
   "execution_count": 3,
   "metadata": {},
   "outputs": [],
   "source": [
    "import pandas as pd\n",
    "import pprint\n",
    "from datetime import datetime, timedelta\n",
    "from pytrends.request import TrendReq\n",
    "import numpy as np\n",
    "\n",
    "pytrends = TrendReq(hl='en-US', tz=360)\n",
    "date_range = (datetime.today() - timedelta(150)).strftime('%Y-%m-%d') + \" \" + datetime.today().strftime('%Y-%m-%d')"
   ]
  },
  {
   "cell_type": "code",
   "execution_count": 4,
   "metadata": {},
   "outputs": [],
   "source": [
    "def get_google_rel_queries(topics_dict):\n",
    "    rel_queries_ls = []\n",
    "    \n",
    "    for i in topics_dict.keys():\n",
    "        pytrends.build_payload(topics_dict[i], cat=0,timeframe = date_range , geo='US', gprop='')\n",
    "        related_queries = pytrends.related_queries()\n",
    "    \n",
    "        for x in topics_dict[i]:\n",
    "            try:\n",
    "                j = \", \".join(list(related_queries[x][\"top\"][\"query\"][0:5]))\n",
    "                rel_queries_ls.append({\n",
    "                'query': x,\n",
    "                'google_related_search': j\n",
    "                }\n",
    "                )\n",
    "            except:\n",
    "                continue\n",
    "                \n",
    "    g_df = pd.DataFrame(rel_queries_ls)\n",
    "    return g_df\n",
    "\n",
    "google_related_queries = get_google_rel_queries(Topics)"
   ]
  },
  {
   "cell_type": "code",
   "execution_count": 5,
   "metadata": {},
   "outputs": [],
   "source": [
    "def interest_over_time(channels):\n",
    "    \n",
    "    pytrends.build_payload(channels, cat=0,timeframe = date_range , geo='US', gprop='')\n",
    "\n",
    "    interest_over_time = pytrends.interest_over_time().drop(\"isPartial\",axis = 1)\n",
    "    \n",
    "    return(interest_over_time)"
   ]
  },
  {
   "cell_type": "code",
   "execution_count": 6,
   "metadata": {},
   "outputs": [],
   "source": [
    "ls = []\n",
    "\n",
    "for i in Topics.keys(): \n",
    "    ls.append(interest_over_time(Topics[i]))\n",
    "    \n",
    "topic_df = pd.concat(ls, axis = 1)"
   ]
  },
  {
   "cell_type": "code",
   "execution_count": 7,
   "metadata": {},
   "outputs": [],
   "source": [
    "topic_df = topic_df.T.reset_index()\n",
    "topic_df.rename(columns = {'index': 'query'}, inplace = True)"
   ]
  },
  {
   "cell_type": "code",
   "execution_count": 8,
   "metadata": {},
   "outputs": [],
   "source": [
    "topic_df = topic_df.merge(google_related_queries, how = \"left\", on=\"query\")"
   ]
  },
  {
   "cell_type": "code",
   "execution_count": 9,
   "metadata": {},
   "outputs": [],
   "source": [
    "import requests\n",
    "from azure.cognitiveservices.search.websearch import WebSearchClient\n",
    "from azure.cognitiveservices.search.websearch.models import SafeSearch\n",
    "from msrest.authentication import CognitiveServicesCredentials"
   ]
  },
  {
   "cell_type": "code",
   "execution_count": 10,
   "metadata": {},
   "outputs": [],
   "source": [
    "subscription_key = \"865c1fcf4c99425c9892bddfe34d76ed\"\n",
    "assert subscription_key"
   ]
  },
  {
   "cell_type": "code",
   "execution_count": 11,
   "metadata": {},
   "outputs": [],
   "source": [
    "def get_best_web_page(q):\n",
    "    webpages = [] #For search result json get the query term, url, site name, and site_desc\n",
    "\n",
    "    for v in search_results[\"webPages\"][\"value\"]:\n",
    "        webpages.append(\n",
    "            {\n",
    "            'query': q,\n",
    "            'bing_url': v[\"url\"],\n",
    "            'bing_site_name': v[\"name\"],\n",
    "            'bing_site_desc':  v[\"snippet\"]\n",
    "            }\n",
    "            )\n",
    "\n",
    "    webpages_df = pd.DataFrame(webpages).iloc[0:1]\n",
    "    return webpages_df"
   ]
  },
  {
   "cell_type": "code",
   "execution_count": 12,
   "metadata": {},
   "outputs": [],
   "source": [
    "def get_related_queries(q):\n",
    "    '''\n",
    "    get's related queries for the search term and puts them into an array\n",
    "    '''\n",
    "\n",
    "    related_searches = []\n",
    "\n",
    "    try:\n",
    "        related_searches = search_results['relatedSearches']['value']\n",
    "\n",
    "        for search in search_results['relatedSearches']['value']:\n",
    "            related_searches.append(\n",
    "                {\n",
    "                    'query': q,\n",
    "                    'bing_related_searches': search[\"text\"],\n",
    "                }\n",
    "            )\n",
    "\n",
    "    except KeyError:\n",
    "\n",
    "        related_searches.append(\n",
    "            {\n",
    "                'query': q,\n",
    "                'bing_related_searches': \"\",\n",
    "            }\n",
    "        )\n",
    "\n",
    "    related_searches_df = pd.DataFrame(related_searches)\n",
    "\n",
    "    related_searches_df = related_searches_df.groupby('query').apply(lambda x: \", \".join(x['bing_related_searches'].unique())).reset_index()\n",
    "\n",
    "    related_searches_df.columns = [\"query\", \"bing_related_searches\"]\n",
    "    return related_searches_df"
   ]
  },
  {
   "cell_type": "code",
   "execution_count": 13,
   "metadata": {},
   "outputs": [],
   "source": [
    "dfObj = pd.DataFrame(columns=[\"query\", \"bing_url\", \"bing_site_name\", \"bing_site_desc\", \"bing_related_searches\"])"
   ]
  },
  {
   "cell_type": "code",
   "execution_count": 14,
   "metadata": {},
   "outputs": [],
   "source": [
    "for items in Topics.keys():\n",
    "    for i in Topics[items]:\n",
    "\n",
    "        headers = {\"Ocp-Apim-Subscription-Key\": subscription_key}\n",
    "        params = {\"q\": i, \"textDecorations\": True, \"textFormat\": \"HTML\"}\n",
    "        response = requests.get(\"https://api.cognitive.microsoft.com/bing/v7.0/search\", headers=headers, params=params)\n",
    "        response.raise_for_status()\n",
    "        search_results = response.json()\n",
    "\n",
    "        merged_df = get_best_web_page(i).merge(get_related_queries(i), how='left', on='query')\n",
    "        dfObj = dfObj.append(merged_df)\n",
    "\n",
    "dfObj = dfObj.reset_index()\n",
    "dfObj.drop(['index'], axis=1, inplace=True)"
   ]
  },
  {
   "cell_type": "code",
   "execution_count": 15,
   "metadata": {},
   "outputs": [],
   "source": [
    "dfObj[\"bing_site_name\"] = dfObj[\"bing_site_name\"].str.replace('<[^<]+?>', '')\n",
    "dfObj[\"bing_site_desc\"] = dfObj[\"bing_site_desc\"].str.replace('<[^<]+?>', '')\n",
    "dfObj[\"bing_related_searches\"] = dfObj[\"bing_related_searches\"].str.replace('<[^<]+?>', '')"
   ]
  },
  {
   "cell_type": "code",
   "execution_count": 16,
   "metadata": {},
   "outputs": [],
   "source": [
    "final_df = dfObj.merge(topic_df, how = 'left', on = 'query')"
   ]
  },
  {
   "cell_type": "code",
   "execution_count": 17,
   "metadata": {},
   "outputs": [],
   "source": [
    "last_col = final_df.pop(\"google_related_search\")\n",
    "final_df.insert(5, \"google_related_search\", last_col)"
   ]
  },
  {
   "cell_type": "code",
   "execution_count": 19,
   "metadata": {},
   "outputs": [
    {
     "name": "stderr",
     "output_type": "stream",
     "text": [
      "C:\\Users\\I859302\\Anaconda3\\lib\\site-packages\\scipy\\stats\\_stats_mstats_common.py:130: RuntimeWarning: invalid value encountered in double_scalars\n",
      "  slope = r_num / ssxm\n",
      "C:\\Users\\I859302\\Anaconda3\\lib\\site-packages\\scipy\\stats\\_stats_mstats_common.py:142: RuntimeWarning: divide by zero encountered in double_scalars\n",
      "  sterrest = np.sqrt((1 - r**2) * ssym / ssxm / df)\n"
     ]
    }
   ],
   "source": [
    "from scipy import stats\n",
    "\n",
    "axisvalues = list(range(1,len(final_df.iloc[:, 6:].columns)+1))\n",
    "\n",
    "def calc_slope(row):\n",
    "    a = scipy.stats.linregress(row, y = axisvalues)\n",
    "    return a.slope \n",
    "\n",
    "calcs = final_df.iloc[:, 6:].apply(calc_slope,axis=1)\n",
    "\n",
    "final_df['slope'] = calcs"
   ]
  },
  {
   "cell_type": "code",
   "execution_count": 20,
   "metadata": {},
   "outputs": [],
   "source": [
    "def trending(dataframe):\n",
    "    if 0.9 < dataframe['slope'] < 1.1:\n",
    "        return 'unchanged'\n",
    "    elif dataframe['slope'] < 0.9:\n",
    "        return 'decreasing'\n",
    "    elif dataframe['slope'] > 1.1:\n",
    "        return 'increasing'\n",
    "    else:\n",
    "        return 'NaN'\n",
    "\n",
    "final_df['trending'] = final_df.apply(trending, axis=1)"
   ]
  },
  {
   "cell_type": "code",
   "execution_count": 21,
   "metadata": {},
   "outputs": [],
   "source": [
    "final_df.to_excel(\"C:/Users/I859302/Desktop/trend_analysis.xlsx\", sheet_name=\"trend_analysis\", index=False)"
   ]
  },
  {
   "cell_type": "code",
   "execution_count": null,
   "metadata": {},
   "outputs": [],
   "source": []
  }
 ],
 "metadata": {
  "kernelspec": {
   "display_name": "Python 3",
   "language": "python",
   "name": "python3"
  },
  "language_info": {
   "codemirror_mode": {
    "name": "ipython",
    "version": 3
   },
   "file_extension": ".py",
   "mimetype": "text/x-python",
   "name": "python",
   "nbconvert_exporter": "python",
   "pygments_lexer": "ipython3",
   "version": "3.7.6"
  }
 },
 "nbformat": 4,
 "nbformat_minor": 2
}
